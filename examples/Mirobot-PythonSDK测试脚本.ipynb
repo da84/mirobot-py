{
 "cells": [
  {
   "cell_type": "code",
   "execution_count": 1,
   "metadata": {},
   "outputs": [
    {
     "name": "stderr",
     "output_type": "stream",
     "text": [
      "[] [DEBUG] Attempting to open serial port COM7\n",
      "[] [DEBUG] Succeeded in opening serial port COM7\n",
      "[COM7] [DEBUG] [RECV] \n",
      "[COM7] [DEBUG] [RECV] Grbl 0.9j ['$' for help]\n",
      "[COM7] [DEBUG] [RECV] \n",
      "[COM7] [DEBUG] [RECV] Qinnew Robot 20200803_TEST_1 based on Grbl 0.9j ['$' for help]\n",
      "[COM7] [DEBUG] [RECV] \n",
      "[COM7] [DEBUG] [RECV] D1: 127.000\n",
      "[COM7] [DEBUG] [RECV] A1: 29.690\n",
      "[COM7] [DEBUG] [RECV] A2: 108.000\n",
      "[COM7] [DEBUG] [RECV] A3: 20.000\n",
      "[COM7] [DEBUG] [RECV] D4: 168.980\n",
      "[COM7] [DEBUG] [RECV] L: -24.280\n",
      "[COM7] [DEBUG] [RECV] X offset: 0.000\n",
      "[COM7] [DEBUG] [RECV] Y offset: 0.000\n",
      "[COM7] [DEBUG] [RECV] Z offset: 0.000\n",
      "[COM7] [DEBUG] [RECV] X tool frame offset: 0.000\n",
      "[COM7] [DEBUG] [RECV] Y tool frame offset: 0.000\n",
      "[COM7] [DEBUG] [RECV] Z tool frame offset: 0.000\n",
      "[COM7] [DEBUG] [RECV] Line discard number: 0\n",
      "[COM7] [DEBUG] [RECV] Axis_7 mode: Rail mode\n",
      "[COM7] [DEBUG] [RECV] Initialized Cartesian coordinates and rotation:\n",
      "[COM7] [DEBUG] [RECV] X: 198.670\n",
      "[COM7] [DEBUG] [RECV] Y: 0.000\n",
      "[COM7] [DEBUG] [RECV] Z: 230.720\n",
      "[COM7] [DEBUG] [RECV] RX: 0.000\n",
      "[COM7] [DEBUG] [RECV] RY: 0.000\n",
      "[COM7] [DEBUG] [RECV] RZ: 0.000\n",
      "[COM7] [DEBUG] [RECV] Using reset pos!\n",
      "[COM7] [DEBUG] [SENT] $H\n"
     ]
    }
   ],
   "source": [
    "from mirobot import Mirobot\n",
    "import time\n",
    "arm = Mirobot(portname='COM7', debug=True)\n",
    "\n",
    "# 注:一定要配置为wait=False,非阻塞式等待\n",
    "# 要不然会卡死\n",
    "arm.home_simultaneous(wait=False)\n",
    "time.sleep(15)"
   ]
  },
  {
   "cell_type": "code",
   "execution_count": 3,
   "metadata": {},
   "outputs": [
    {
     "name": "stderr",
     "output_type": "stream",
     "text": [
      "[COM7] [DEBUG] [SENT] M21 G90 X90.0 F2000\n",
      "[COM7] [DEBUG] [RECV] ok\n",
      "[COM7] [DEBUG] [RECV] ok\n",
      "[COM7] [ERROR] Could not parse status message \"ok\"\n"
     ]
    },
    {
     "ename": "SystemExit",
     "evalue": "-1",
     "output_type": "error",
     "traceback": [
      "An exception has occurred, use %tb to see the full traceback.\n",
      "\u001b[1;31mSystemExit\u001b[0m\u001b[1;31m:\u001b[0m -1\n"
     ]
    }
   ],
   "source": [
    "# 设置关节角度\n",
    "arm.go_to_axis(x=90.0, wait=True)"
   ]
  }
 ],
 "metadata": {
  "kernelspec": {
   "display_name": "Python 3",
   "language": "python",
   "name": "python3"
  },
  "language_info": {
   "codemirror_mode": {
    "name": "ipython",
    "version": 3
   },
   "file_extension": ".py",
   "mimetype": "text/x-python",
   "name": "python",
   "nbconvert_exporter": "python",
   "pygments_lexer": "ipython3",
   "version": "3.7.8"
  }
 },
 "nbformat": 4,
 "nbformat_minor": 4
}
